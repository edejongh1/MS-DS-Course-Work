{
 "cells": [
  {
   "cell_type": "markdown",
   "id": "68bc57b4-bef5-4d61-bbb7-8b513616b775",
   "metadata": {},
   "source": [
    "## Introduction\n",
    "\n",
    "In this notebook, I will develop and test a Recurrent Neural Network (RNN) model to classify tweets for the \"Natural Language Processing with Disaster Tweets\" challenge on Kaggle (https://www.kaggle.com/c/nlp-getting-started/overview). This is a Natural Language Processing (NLP) task, as the goal is to interpret the text of the tweets and determine whether or not they are referring to real disasters. \n",
    "\n",
    "First, I will import the relevant libraries:"
   ]
  },
  {
   "cell_type": "code",
   "execution_count": 41,
   "id": "6891e23a",
   "metadata": {},
   "outputs": [],
   "source": [
    "import pandas as pd\n",
    "import matplotlib.pyplot as plt\n",
    "import tensorflow.keras as keras\n",
    "from tensorflow.keras.models import Sequential\n",
    "from tensorflow.keras.layers import LSTM, Dense, Embedding, GRU\n",
    "from tensorflow.keras import layers\n",
    "from tensorflow.keras.preprocessing.text import Tokenizer\n",
    "from tensorflow.keras.preprocessing.sequence import pad_sequences\n",
    "from sklearn.metrics import confusion_matrix, ConfusionMatrixDisplay"
   ]
  },
  {
   "cell_type": "markdown",
   "id": "5b4b7111-8065-4a77-87d6-a4f0c066a485",
   "metadata": {},
   "source": [
    "A quick look at the training data shows a dataset of 7613 tweets, with columns for the id number, keyword, location, and text of each tweet. In addition, the \"target\" column provides the training labels, indicating whether each tweet is about a real disaster (1) or not (0)."
   ]
  },
  {
   "cell_type": "code",
   "execution_count": 4,
   "id": "58ec85e1",
   "metadata": {},
   "outputs": [
    {
     "name": "stdout",
     "output_type": "stream",
     "text": [
      "7613\n"
     ]
    },
    {
     "data": {
      "text/html": [
       "<div>\n",
       "<style scoped>\n",
       "    .dataframe tbody tr th:only-of-type {\n",
       "        vertical-align: middle;\n",
       "    }\n",
       "\n",
       "    .dataframe tbody tr th {\n",
       "        vertical-align: top;\n",
       "    }\n",
       "\n",
       "    .dataframe thead th {\n",
       "        text-align: right;\n",
       "    }\n",
       "</style>\n",
       "<table border=\"1\" class=\"dataframe\">\n",
       "  <thead>\n",
       "    <tr style=\"text-align: right;\">\n",
       "      <th></th>\n",
       "      <th>id</th>\n",
       "      <th>keyword</th>\n",
       "      <th>location</th>\n",
       "      <th>text</th>\n",
       "      <th>target</th>\n",
       "    </tr>\n",
       "  </thead>\n",
       "  <tbody>\n",
       "    <tr>\n",
       "      <th>4267</th>\n",
       "      <td>6061</td>\n",
       "      <td>heat%20wave</td>\n",
       "      <td>Malaysia/Jordan</td>\n",
       "      <td>It's kinda cool tonight. Is the heat wave fina...</td>\n",
       "      <td>1</td>\n",
       "    </tr>\n",
       "    <tr>\n",
       "      <th>636</th>\n",
       "      <td>921</td>\n",
       "      <td>bioterrorism</td>\n",
       "      <td>NaN</td>\n",
       "      <td>@ONU_France 74/75 Bioterrorism on '@Rockefelle...</td>\n",
       "      <td>0</td>\n",
       "    </tr>\n",
       "    <tr>\n",
       "      <th>4773</th>\n",
       "      <td>6792</td>\n",
       "      <td>lightning</td>\n",
       "      <td>Holland MI via Houston, CLE</td>\n",
       "      <td>Corey Robinson having some solid reps at RT al...</td>\n",
       "      <td>0</td>\n",
       "    </tr>\n",
       "    <tr>\n",
       "      <th>3459</th>\n",
       "      <td>4948</td>\n",
       "      <td>exploded</td>\n",
       "      <td>WonderlandÛÓ ?????? ???? ??????</td>\n",
       "      <td>My head exploded i swear</td>\n",
       "      <td>0</td>\n",
       "    </tr>\n",
       "    <tr>\n",
       "      <th>2978</th>\n",
       "      <td>4275</td>\n",
       "      <td>drowning</td>\n",
       "      <td>NaN</td>\n",
       "      <td>Louis in red jacket round 2 aka drowning in my...</td>\n",
       "      <td>0</td>\n",
       "    </tr>\n",
       "    <tr>\n",
       "      <th>5104</th>\n",
       "      <td>7281</td>\n",
       "      <td>nuclear%20disaster</td>\n",
       "      <td>NaN</td>\n",
       "      <td>Fukushima 'mutant vegetable' images sweep acro...</td>\n",
       "      <td>1</td>\n",
       "    </tr>\n",
       "    <tr>\n",
       "      <th>3451</th>\n",
       "      <td>4935</td>\n",
       "      <td>exploded</td>\n",
       "      <td>NaN</td>\n",
       "      <td>The Dress Memes Have Officially Exploded On Th...</td>\n",
       "      <td>0</td>\n",
       "    </tr>\n",
       "    <tr>\n",
       "      <th>4372</th>\n",
       "      <td>6211</td>\n",
       "      <td>hijacker</td>\n",
       "      <td>NaN</td>\n",
       "      <td>Governor allows parole for California school b...</td>\n",
       "      <td>0</td>\n",
       "    </tr>\n",
       "    <tr>\n",
       "      <th>2100</th>\n",
       "      <td>3016</td>\n",
       "      <td>death</td>\n",
       "      <td>The UK</td>\n",
       "      <td>I liked a @YouTube video from @jeromekem http:...</td>\n",
       "      <td>0</td>\n",
       "    </tr>\n",
       "    <tr>\n",
       "      <th>5871</th>\n",
       "      <td>8388</td>\n",
       "      <td>ruin</td>\n",
       "      <td>NaN</td>\n",
       "      <td>You can only make yourself happy. Fuck those t...</td>\n",
       "      <td>0</td>\n",
       "    </tr>\n",
       "    <tr>\n",
       "      <th>598</th>\n",
       "      <td>866</td>\n",
       "      <td>bioterror</td>\n",
       "      <td>Jacksonville, FL</td>\n",
       "      <td>[JAX Biz Journal] FedEx stops shipping potenti...</td>\n",
       "      <td>1</td>\n",
       "    </tr>\n",
       "    <tr>\n",
       "      <th>7085</th>\n",
       "      <td>10147</td>\n",
       "      <td>upheaval</td>\n",
       "      <td>Milwaukee, WI</td>\n",
       "      <td>A Look at State Actions a Year After #Ferguson...</td>\n",
       "      <td>1</td>\n",
       "    </tr>\n",
       "    <tr>\n",
       "      <th>4975</th>\n",
       "      <td>7093</td>\n",
       "      <td>meltdown</td>\n",
       "      <td>Flushing, Queens</td>\n",
       "      <td>LOL Warthen in the midst of bullpen meltdown r...</td>\n",
       "      <td>0</td>\n",
       "    </tr>\n",
       "    <tr>\n",
       "      <th>2539</th>\n",
       "      <td>3643</td>\n",
       "      <td>desolation</td>\n",
       "      <td>Istanbul</td>\n",
       "      <td>#np agalloch - the desolation song</td>\n",
       "      <td>0</td>\n",
       "    </tr>\n",
       "    <tr>\n",
       "      <th>936</th>\n",
       "      <td>1353</td>\n",
       "      <td>blown%20up</td>\n",
       "      <td>Guildford, UK</td>\n",
       "      <td>'WeÛªre blown away by this extension. Nothing...</td>\n",
       "      <td>0</td>\n",
       "    </tr>\n",
       "    <tr>\n",
       "      <th>4014</th>\n",
       "      <td>5703</td>\n",
       "      <td>floods</td>\n",
       "      <td>NaN</td>\n",
       "      <td>69 die in Myanmar floods 250000 affected http:...</td>\n",
       "      <td>1</td>\n",
       "    </tr>\n",
       "    <tr>\n",
       "      <th>2193</th>\n",
       "      <td>3141</td>\n",
       "      <td>debris</td>\n",
       "      <td>World news</td>\n",
       "      <td>ABC OnlineMH370: Aircraft debris found on La R...</td>\n",
       "      <td>1</td>\n",
       "    </tr>\n",
       "    <tr>\n",
       "      <th>3933</th>\n",
       "      <td>5592</td>\n",
       "      <td>flood</td>\n",
       "      <td>New York</td>\n",
       "      <td>2pcs 18W CREE Led Work Light  Offroad Lamp Car...</td>\n",
       "      <td>0</td>\n",
       "    </tr>\n",
       "    <tr>\n",
       "      <th>6944</th>\n",
       "      <td>9960</td>\n",
       "      <td>tsunami</td>\n",
       "      <td>NaN</td>\n",
       "      <td>So did we have a hurricane tornado tsunami? So...</td>\n",
       "      <td>1</td>\n",
       "    </tr>\n",
       "    <tr>\n",
       "      <th>3996</th>\n",
       "      <td>5675</td>\n",
       "      <td>floods</td>\n",
       "      <td>California</td>\n",
       "      <td>Floods Fishing Finally Sunshine &amp;amp; Fab Deal...</td>\n",
       "      <td>0</td>\n",
       "    </tr>\n",
       "  </tbody>\n",
       "</table>\n",
       "</div>"
      ],
      "text/plain": [
       "         id             keyword                          location  \\\n",
       "4267   6061         heat%20wave                   Malaysia/Jordan   \n",
       "636     921        bioterrorism                               NaN   \n",
       "4773   6792           lightning       Holland MI via Houston, CLE   \n",
       "3459   4948            exploded  WonderlandÛÓ ?????? ???? ??????   \n",
       "2978   4275            drowning                               NaN   \n",
       "5104   7281  nuclear%20disaster                               NaN   \n",
       "3451   4935            exploded                               NaN   \n",
       "4372   6211            hijacker                               NaN   \n",
       "2100   3016               death                            The UK   \n",
       "5871   8388                ruin                               NaN   \n",
       "598     866           bioterror                  Jacksonville, FL   \n",
       "7085  10147            upheaval                     Milwaukee, WI   \n",
       "4975   7093            meltdown                  Flushing, Queens   \n",
       "2539   3643          desolation                          Istanbul   \n",
       "936    1353          blown%20up                     Guildford, UK   \n",
       "4014   5703              floods                               NaN   \n",
       "2193   3141              debris                        World news   \n",
       "3933   5592               flood                          New York   \n",
       "6944   9960             tsunami                               NaN   \n",
       "3996   5675              floods                        California   \n",
       "\n",
       "                                                   text  target  \n",
       "4267  It's kinda cool tonight. Is the heat wave fina...       1  \n",
       "636   @ONU_France 74/75 Bioterrorism on '@Rockefelle...       0  \n",
       "4773  Corey Robinson having some solid reps at RT al...       0  \n",
       "3459                           My head exploded i swear       0  \n",
       "2978  Louis in red jacket round 2 aka drowning in my...       0  \n",
       "5104  Fukushima 'mutant vegetable' images sweep acro...       1  \n",
       "3451  The Dress Memes Have Officially Exploded On Th...       0  \n",
       "4372  Governor allows parole for California school b...       0  \n",
       "2100  I liked a @YouTube video from @jeromekem http:...       0  \n",
       "5871  You can only make yourself happy. Fuck those t...       0  \n",
       "598   [JAX Biz Journal] FedEx stops shipping potenti...       1  \n",
       "7085  A Look at State Actions a Year After #Ferguson...       1  \n",
       "4975  LOL Warthen in the midst of bullpen meltdown r...       0  \n",
       "2539                 #np agalloch - the desolation song       0  \n",
       "936   'WeÛªre blown away by this extension. Nothing...       0  \n",
       "4014  69 die in Myanmar floods 250000 affected http:...       1  \n",
       "2193  ABC OnlineMH370: Aircraft debris found on La R...       1  \n",
       "3933  2pcs 18W CREE Led Work Light  Offroad Lamp Car...       0  \n",
       "6944  So did we have a hurricane tornado tsunami? So...       1  \n",
       "3996  Floods Fishing Finally Sunshine &amp; Fab Deal...       0  "
      ]
     },
     "execution_count": 4,
     "metadata": {},
     "output_type": "execute_result"
    }
   ],
   "source": [
    "data = pd.read_csv(\"train.csv\")\n",
    "print(len(data))\n",
    "data.sample(20)"
   ]
  },
  {
   "cell_type": "markdown",
   "id": "4d7b0e9a-9bea-4ead-b9a2-bfe84d3cd5ab",
   "metadata": {},
   "source": [
    "## Exploratory Data Analysis\n",
    "\n",
    "Non-disaster tweets outnumber disaster tweets in the dataset by about a 4:3 ratio:"
   ]
  },
  {
   "cell_type": "code",
   "execution_count": 5,
   "id": "95306cad",
   "metadata": {},
   "outputs": [
    {
     "data": {
      "text/plain": [
       "target\n",
       "0    4342\n",
       "1    3271\n",
       "Name: count, dtype: int64"
      ]
     },
     "execution_count": 5,
     "metadata": {},
     "output_type": "execute_result"
    }
   ],
   "source": [
    "data['target'].value_counts()"
   ]
  },
  {
   "cell_type": "markdown",
   "id": "4b7bb4f1-767d-4b47-b075-afbbd860452c",
   "metadata": {},
   "source": [
    "An analysis of the word counts of the tweets shows a roughly normal distribution in word count for both disaster and non-disaster tweets, although it appears that disaster tweets have a slightly narrower distribution. In particulat, tweets with 5 or fewer words are overwhelmingly non-disaster."
   ]
  },
  {
   "cell_type": "code",
   "execution_count": 6,
   "id": "06fde700",
   "metadata": {},
   "outputs": [
    {
     "data": {
      "image/png": "[encoded data removed]",
      "text/plain": [
       "<Figure size 640x480 with 1 Axes>"
      ]
     },
     "metadata": {},
     "output_type": "display_data"
    }
   ],
   "source": [
    "def word_count(text):\n",
    "    words = text.split()\n",
    "    return len(words)\n",
    "\n",
    "wc0 = data[data['target'] == 0]['text'].apply(word_count).to_list()\n",
    "wc1 = data[data['target'] == 1]['text'].apply(word_count).to_list()\n",
    "\n",
    "plt.hist([wc0, wc1], bins=30, label=['Non-Disaster','Disaster'], rwidth=0.9)\n",
    "plt.legend()\n",
    "plt.xlabel('Word Count')\n",
    "plt.show()"
   ]
  },
  {
   "cell_type": "markdown",
   "id": "0dc0c1da-33f9-453c-b7e9-b720c58209c4",
   "metadata": {},
   "source": [
    "Looking at the 'location' column, there are a large number of missing values (2533 out of 7613) and a large number of unique values (3342). There is also an issue of inconsistent formating, with some entries specifying a country while others specify a state or city. This column will require some cleaning if it is to be used."
   ]
  },
  {
   "cell_type": "code",
   "execution_count": 7,
   "id": "dae1765b",
   "metadata": {},
   "outputs": [
    {
     "data": {
      "text/plain": [
       "location\n",
       "NaN                             2533\n",
       "USA                              104\n",
       "New York                          71\n",
       "United States                     50\n",
       "London                            45\n",
       "                                ... \n",
       "Surulere Lagos,Home Of Swagg       1\n",
       "MontrÌ©al, QuÌ©bec                 1\n",
       "Montreal                           1\n",
       "ÌÏT: 6.4682,3.18287                1\n",
       "Lincoln                            1\n",
       "Name: count, Length: 3342, dtype: int64"
      ]
     },
     "execution_count": 7,
     "metadata": {},
     "output_type": "execute_result"
    }
   ],
   "source": [
    "data['location'].value_counts(dropna=False)"
   ]
  },
  {
   "cell_type": "markdown",
   "id": "4a3fb492-a0d6-4bbe-899a-b03f64b23c42",
   "metadata": {},
   "source": [
    "The 'keyword' column has a much smaller number of missing values (61) and unique values (222)."
   ]
  },
  {
   "cell_type": "code",
   "execution_count": 8,
   "id": "25dbc684",
   "metadata": {},
   "outputs": [
    {
     "data": {
      "text/plain": [
       "keyword\n",
       "NaN                      61\n",
       "fatalities               45\n",
       "deluge                   42\n",
       "armageddon               42\n",
       "sinking                  41\n",
       "                         ..\n",
       "forest%20fire            19\n",
       "epicentre                12\n",
       "threat                   11\n",
       "inundation               10\n",
       "radiation%20emergency     9\n",
       "Name: count, Length: 222, dtype: int64"
      ]
     },
     "execution_count": 8,
     "metadata": {},
     "output_type": "execute_result"
    }
   ],
   "source": [
    "data['keyword'].value_counts(dropna=False)"
   ]
  },
  {
   "cell_type": "markdown",
   "id": "6f2ce005-0774-4fd2-ab0d-1cf8e5d986b4",
   "metadata": {},
   "source": [
    "## Data Preprocessing\n",
    "\n",
    "Before training a model on the text of the tweets, I will have to convert the text into a suitable form. First, to reduce the text to its most relevant words, I will remove \"stop words\", which are common words such as the ones shown below:"
   ]
  },
  {
   "cell_type": "code",
   "execution_count": 9,
   "id": "c046944c",
   "metadata": {},
   "outputs": [
    {
     "data": {
      "text/plain": [
       "['a',\n",
       " 'about',\n",
       " 'above',\n",
       " 'after',\n",
       " 'again',\n",
       " 'against',\n",
       " 'ain',\n",
       " 'all',\n",
       " 'am',\n",
       " 'an',\n",
       " 'and',\n",
       " 'any',\n",
       " 'are',\n",
       " 'aren',\n",
       " \"aren't\",\n",
       " 'as',\n",
       " 'at',\n",
       " 'be',\n",
       " 'because',\n",
       " 'been',\n",
       " 'before',\n",
       " 'being',\n",
       " 'below',\n",
       " 'between',\n",
       " 'both',\n",
       " 'but',\n",
       " 'by',\n",
       " 'can',\n",
       " 'couldn',\n",
       " \"couldn't\",\n",
       " 'd',\n",
       " 'did',\n",
       " 'didn',\n",
       " \"didn't\",\n",
       " 'do',\n",
       " 'does',\n",
       " 'doesn',\n",
       " \"doesn't\",\n",
       " 'doing',\n",
       " 'don',\n",
       " \"don't\",\n",
       " 'down',\n",
       " 'during',\n",
       " 'each',\n",
       " 'few',\n",
       " 'for',\n",
       " 'from',\n",
       " 'further',\n",
       " 'had',\n",
       " 'hadn']"
      ]
     },
     "execution_count": 9,
     "metadata": {},
     "output_type": "execute_result"
    }
   ],
   "source": [
    "#!pip install nltk\n",
    "import nltk\n",
    "#nltk.download('stopwords')\n",
    "from nltk.corpus import stopwords\n",
    "stop_words = stopwords.words('english')\n",
    "stop_words[:50]"
   ]
  },
  {
   "cell_type": "markdown",
   "id": "7c16dd0a-32e1-4c2d-b875-6eceb0cbc6b8",
   "metadata": {},
   "source": [
    "The function below applies several operations to clean the text. First, words are converted to lower case, so that upper and lower case versions of the same word are treated as the same word in the model. Punctuation marks are also removed to prevent words followed by them to be treated differently. I also removed the symbols \"#\", \"@\", and \"http\" from words, but included them as separate strings, since their placement might be relevant to the model."
   ]
  },
  {
   "cell_type": "code",
   "execution_count": 10,
   "id": "36eea7b9",
   "metadata": {},
   "outputs": [],
   "source": [
    "def Clean_text(text):\n",
    "    words = []\n",
    "    for word in text.split():\n",
    "\n",
    "        #Convert to lower case\n",
    "        word = word.lower()\n",
    "        \n",
    "        #Remove punctuation marks at the ends of words\n",
    "        if word[-1] in ['.', ',', ':', '?', '!']:\n",
    "            word = word[:-1]\n",
    "            \n",
    "        #Remove single-character words and stop words\n",
    "        if len(word) < 2:\n",
    "            continue\n",
    "        if word in stop_words:\n",
    "            continue\n",
    "            \n",
    "        #Add symbols as separate words\n",
    "        if word[0] == '#' or word[0] == '@':\n",
    "            words.append(word[0])\n",
    "            word = word[1:]            \n",
    "        if word[0:5] == 'http:':\n",
    "            words.append(word[0:5])\n",
    "            word = word[5:]\n",
    "        \n",
    "        words.append(word)\n",
    "        \n",
    "    return ' '.join(words)\n",
    "\n",
    "data['Clean_text'] = data['text'].apply(Clean_text)"
   ]
  },
  {
   "cell_type": "code",
   "execution_count": 11,
   "id": "8580118a",
   "metadata": {},
   "outputs": [
    {
     "data": {
      "text/html": [
       "<div>\n",
       "<style scoped>\n",
       "    .dataframe tbody tr th:only-of-type {\n",
       "        vertical-align: middle;\n",
       "    }\n",
       "\n",
       "    .dataframe tbody tr th {\n",
       "        vertical-align: top;\n",
       "    }\n",
       "\n",
       "    .dataframe thead th {\n",
       "        text-align: right;\n",
       "    }\n",
       "</style>\n",
       "<table border=\"1\" class=\"dataframe\">\n",
       "  <thead>\n",
       "    <tr style=\"text-align: right;\">\n",
       "      <th></th>\n",
       "      <th>id</th>\n",
       "      <th>keyword</th>\n",
       "      <th>location</th>\n",
       "      <th>text</th>\n",
       "      <th>target</th>\n",
       "      <th>Clean_text</th>\n",
       "    </tr>\n",
       "  </thead>\n",
       "  <tbody>\n",
       "    <tr>\n",
       "      <th>0</th>\n",
       "      <td>1</td>\n",
       "      <td>NaN</td>\n",
       "      <td>NaN</td>\n",
       "      <td>Our Deeds are the Reason of this #earthquake M...</td>\n",
       "      <td>1</td>\n",
       "      <td>deeds reason # earthquake may allah forgive us</td>\n",
       "    </tr>\n",
       "    <tr>\n",
       "      <th>1</th>\n",
       "      <td>4</td>\n",
       "      <td>NaN</td>\n",
       "      <td>NaN</td>\n",
       "      <td>Forest fire near La Ronge Sask. Canada</td>\n",
       "      <td>1</td>\n",
       "      <td>forest fire near la ronge sask canada</td>\n",
       "    </tr>\n",
       "    <tr>\n",
       "      <th>2</th>\n",
       "      <td>5</td>\n",
       "      <td>NaN</td>\n",
       "      <td>NaN</td>\n",
       "      <td>All residents asked to 'shelter in place' are ...</td>\n",
       "      <td>1</td>\n",
       "      <td>residents asked 'shelter place' notified offic...</td>\n",
       "    </tr>\n",
       "    <tr>\n",
       "      <th>3</th>\n",
       "      <td>6</td>\n",
       "      <td>NaN</td>\n",
       "      <td>NaN</td>\n",
       "      <td>13,000 people receive #wildfires evacuation or...</td>\n",
       "      <td>1</td>\n",
       "      <td>13,000 people receive # wildfires evacuation o...</td>\n",
       "    </tr>\n",
       "    <tr>\n",
       "      <th>4</th>\n",
       "      <td>7</td>\n",
       "      <td>NaN</td>\n",
       "      <td>NaN</td>\n",
       "      <td>Just got sent this photo from Ruby #Alaska as ...</td>\n",
       "      <td>1</td>\n",
       "      <td>got sent photo ruby # alaska smoke # wildfires...</td>\n",
       "    </tr>\n",
       "  </tbody>\n",
       "</table>\n",
       "</div>"
      ],
      "text/plain": [
       "   id keyword location                                               text  \\\n",
       "0   1     NaN      NaN  Our Deeds are the Reason of this #earthquake M...   \n",
       "1   4     NaN      NaN             Forest fire near La Ronge Sask. Canada   \n",
       "2   5     NaN      NaN  All residents asked to 'shelter in place' are ...   \n",
       "3   6     NaN      NaN  13,000 people receive #wildfires evacuation or...   \n",
       "4   7     NaN      NaN  Just got sent this photo from Ruby #Alaska as ...   \n",
       "\n",
       "   target                                         Clean_text  \n",
       "0       1     deeds reason # earthquake may allah forgive us  \n",
       "1       1              forest fire near la ronge sask canada  \n",
       "2       1  residents asked 'shelter place' notified offic...  \n",
       "3       1  13,000 people receive # wildfires evacuation o...  \n",
       "4       1  got sent photo ruby # alaska smoke # wildfires...  "
      ]
     },
     "execution_count": 11,
     "metadata": {},
     "output_type": "execute_result"
    }
   ],
   "source": [
    "data.head()"
   ]
  },
  {
   "cell_type": "markdown",
   "id": "880c7f8b-4192-4cd6-8ef7-067ef046fc5f",
   "metadata": {},
   "source": [
    "Next, I split the data into a training and validation set based on an 80:20 ratio:"
   ]
  },
  {
   "cell_type": "code",
   "execution_count": 87,
   "id": "aac19f1e-53fb-4723-b55e-f09571fca91e",
   "metadata": {},
   "outputs": [
    {
     "name": "stdout",
     "output_type": "stream",
     "text": [
      "6090 1523\n"
     ]
    }
   ],
   "source": [
    "n = int(0.8*len(data))\n",
    "df_shuffled = data.sample(frac=1).reset_index(drop=True)\n",
    "data_train = df_shuffled[:n]\n",
    "data_val = df_shuffled[n:]\n",
    "print(len(data_train), len(data_val))"
   ]
  },
  {
   "cell_type": "markdown",
   "id": "78d5337a-6688-4a5f-84c3-374cb76f7f86",
   "metadata": {},
   "source": [
    "Finally, to prepare the data for the RNN model, I converted the text to integers using Keras' Tokenizer. I selected 10,000 for the num_words parameter, so that only the 10,000 most common words in the dataset would be included in the final preprocessed data. The final format for the input data is a sequence of integers, padded with zeroes to match the length of the longest sequence in the dataset."
   ]
  },
  {
   "cell_type": "code",
   "execution_count": 88,
   "id": "b99bbc42-451f-4f67-9d6f-fa34896ce393",
   "metadata": {},
   "outputs": [],
   "source": [
    "def train_test(data, max_words):\n",
    "    \n",
    "    tokenizer = Tokenizer(num_words=max_words)\n",
    "    tokenizer.fit_on_texts(data[\"Clean_text\"])\n",
    "\n",
    "    X_train = tokenizer.texts_to_sequences(data_train[\"Clean_text\"])\n",
    "    y_train = data_train[\"target\"]\n",
    "    X_val = tokenizer.texts_to_sequences(data_val[\"Clean_text\"])\n",
    "    y_val = data_val[\"target\"]\n",
    "\n",
    "    max_length = int(max([len(x) for x in X_train]))\n",
    "    X_train = pad_sequences(X_train, maxlen=max_length, padding='post')\n",
    "    X_val = pad_sequences(X_val, maxlen=max_length, padding='post')\n",
    "\n",
    "    return X_train, y_train, X_val, y_val\n",
    "\n",
    "max_words = 10000\n",
    "X_train, y_train, X_val, y_val = train_test(data, max_words)"
   ]
  },
  {
   "cell_type": "code",
   "execution_count": 89,
   "id": "1386aa7d-e762-4a13-9aea-808a96ea1977",
   "metadata": {},
   "outputs": [
    {
     "data": {
      "text/plain": [
       "array([[  13, 1057, 1718, ...,    0,    0,    0],\n",
       "       [1402,  490, 7227, ...,    0,    0,    0],\n",
       "       [ 234, 3305,  281, ...,    0,    0,    0],\n",
       "       ...,\n",
       "       [1364,  640, 4442, ...,    0,    0,    0],\n",
       "       [1662,  320,    3, ...,    0,    0,    0],\n",
       "       [ 234,    0,    0, ...,    0,    0,    0]], dtype=int32)"
      ]
     },
     "execution_count": 89,
     "metadata": {},
     "output_type": "execute_result"
    }
   ],
   "source": [
    "X_train "
   ]
  },
  {
   "cell_type": "markdown",
   "id": "b7c04164-884f-45da-aaa4-edb202c8d4ef",
   "metadata": {},
   "source": [
    "## Model Building - LSTM\n",
    "\n",
    "The first model that I decided to try was a Long Short-Term Memory (LSTM) model, a type of RNN that is designed to capture long-term dependencies in the sequence inputted to the model. A key component of the model is the embedding layer, which transforms the integer-coded words into multi-dimensional vectors that are updated during training, allowing the model to learn relationships between words. I chose to set the embedding dimension as 1/100th of the vocabulary size. "
   ]
  },
  {
   "cell_type": "code",
   "execution_count": 90,
   "id": "0a19699c-6854-41c0-af34-3d326e20ff02",
   "metadata": {},
   "outputs": [],
   "source": [
    "model = Sequential()\n",
    "model.add(Embedding(input_dim=max_words, output_dim=max_words//100))\n",
    "model.add(LSTM(64))\n",
    "model.add(Dense(1, activation='sigmoid'))\n",
    "\n",
    "model.compile(optimizer='adam', loss='binary_crossentropy', metrics=['accuracy'])"
   ]
  },
  {
   "cell_type": "code",
   "execution_count": 91,
   "id": "faa7a352-7055-450b-abde-e4f67b006192",
   "metadata": {},
   "outputs": [
    {
     "name": "stdout",
     "output_type": "stream",
     "text": [
      "Epoch 1/10\n",
      "\u001b[1m96/96\u001b[0m \u001b[32m━━━━━━━━━━━━━━━━━━━━\u001b[0m\u001b[37m\u001b[0m \u001b[1m2s\u001b[0m 13ms/step - accuracy: 0.6002 - loss: 0.6411 - val_accuracy: 0.8162 - val_loss: 0.4346\n",
      "Epoch 2/10\n",
      "\u001b[1m96/96\u001b[0m \u001b[32m━━━━━━━━━━━━━━━━━━━━\u001b[0m\u001b[37m\u001b[0m \u001b[1m1s\u001b[0m 11ms/step - accuracy: 0.8684 - loss: 0.3337 - val_accuracy: 0.7761 - val_loss: 0.4897\n",
      "Epoch 3/10\n",
      "\u001b[1m96/96\u001b[0m \u001b[32m━━━━━━━━━━━━━━━━━━━━\u001b[0m\u001b[37m\u001b[0m \u001b[1m1s\u001b[0m 11ms/step - accuracy: 0.9238 - loss: 0.2348 - val_accuracy: 0.7879 - val_loss: 0.5153\n",
      "Epoch 4/10\n",
      "\u001b[1m96/96\u001b[0m \u001b[32m━━━━━━━━━━━━━━━━━━━━\u001b[0m\u001b[37m\u001b[0m \u001b[1m1s\u001b[0m 11ms/step - accuracy: 0.9411 - loss: 0.1627 - val_accuracy: 0.7997 - val_loss: 0.5894\n",
      "Epoch 5/10\n",
      "\u001b[1m96/96\u001b[0m \u001b[32m━━━━━━━━━━━━━━━━━━━━\u001b[0m\u001b[37m\u001b[0m \u001b[1m1s\u001b[0m 12ms/step - accuracy: 0.9528 - loss: 0.1459 - val_accuracy: 0.7728 - val_loss: 0.7737\n",
      "Epoch 6/10\n",
      "\u001b[1m96/96\u001b[0m \u001b[32m━━━━━━━━━━━━━━━━━━━━\u001b[0m\u001b[37m\u001b[0m \u001b[1m1s\u001b[0m 11ms/step - accuracy: 0.9678 - loss: 0.0973 - val_accuracy: 0.7853 - val_loss: 0.8408\n",
      "Epoch 7/10\n",
      "\u001b[1m96/96\u001b[0m \u001b[32m━━━━━━━━━━━━━━━━━━━━\u001b[0m\u001b[37m\u001b[0m \u001b[1m1s\u001b[0m 11ms/step - accuracy: 0.9690 - loss: 0.0807 - val_accuracy: 0.7531 - val_loss: 0.8804\n",
      "Epoch 8/10\n",
      "\u001b[1m96/96\u001b[0m \u001b[32m━━━━━━━━━━━━━━━━━━━━\u001b[0m\u001b[37m\u001b[0m \u001b[1m1s\u001b[0m 11ms/step - accuracy: 0.9729 - loss: 0.0787 - val_accuracy: 0.7656 - val_loss: 0.9174\n",
      "Epoch 9/10\n",
      "\u001b[1m96/96\u001b[0m \u001b[32m━━━━━━━━━━━━━━━━━━━━\u001b[0m\u001b[37m\u001b[0m \u001b[1m1s\u001b[0m 11ms/step - accuracy: 0.9726 - loss: 0.0689 - val_accuracy: 0.7663 - val_loss: 0.9225\n",
      "Epoch 10/10\n",
      "\u001b[1m96/96\u001b[0m \u001b[32m━━━━━━━━━━━━━━━━━━━━\u001b[0m\u001b[37m\u001b[0m \u001b[1m1s\u001b[0m 12ms/step - accuracy: 0.9710 - loss: 0.0677 - val_accuracy: 0.7669 - val_loss: 1.0254\n"
     ]
    },
    {
     "data": {
      "text/plain": [
       "<keras.src.callbacks.history.History at 0x7fbd283e4580>"
      ]
     },
     "execution_count": 91,
     "metadata": {},
     "output_type": "execute_result"
    }
   ],
   "source": [
    "model.fit(X_train, y_train, epochs=10, batch_size=64, validation_data=(X_val, y_val))"
   ]
  },
  {
   "cell_type": "code",
   "execution_count": 92,
   "id": "7f5ef8ea-e5a4-4b7f-bf7a-85bd9b169afd",
   "metadata": {},
   "outputs": [],
   "source": [
    "def plot_history(model_history):\n",
    "    train_acc = model_history.history['accuracy']\n",
    "    val_acc = model_history.history['val_accuracy']\n",
    "\n",
    "    n = len(train_acc)\n",
    "    epoch = range(1, n+1)\n",
    "\n",
    "    plt.plot(epoch, train_acc, label='Training Accuracy')\n",
    "    plt.plot(epoch, val_acc, label='Validation Accuracy')\n",
    "    plt.xlabel('Epoch')\n",
    "    plt.ylabel('Accuracy')\n",
    "    plt.legend()\n",
    "    plt.xticks(range(0, n+1, 2))\n",
    "    plt.show()\n",
    "\n",
    "def Best_acc(model_history):\n",
    "    best_acc = 0\n",
    "    best_epoch = 0\n",
    "    val_acc = model_history.history['val_accuracy']\n",
    "    \n",
    "    for i in range(len(val_acc)):\n",
    "        if val_acc[i] > best_acc:\n",
    "            best_acc = val_acc[i]\n",
    "            best_epoch = i+1\n",
    "\n",
    "    print(\"Best Epoch: \" + str(best_epoch) + \", Accuracy = \" + str(best_acc))\n",
    "    return best_acc, best_epoch\n",
    "\n",
    "def CFM(y_true, y_pred):\n",
    "    cm = confusion_matrix(y_val, yp)\n",
    "\n",
    "    disp = ConfusionMatrixDisplay(confusion_matrix=cm, display_labels=[\"Class 0\", \"Class 1\"])\n",
    "    disp.plot(cmap=plt.cm.Blues)\n",
    "    plt.title(\"Confusion Matrix\")\n",
    "    plt.show()"
   ]
  },
  {
   "cell_type": "markdown",
   "id": "27ef8665-5eef-4dd7-a225-f0b9902a6d22",
   "metadata": {},
   "source": [
    "The results of this first run of LSTM show a modest 81.6% validation accuracy achieved on the first epoch of training. From there, the validation accuracy declines as the training accuracy improves, suggesting that the model is overfitting."
   ]
  },
  {
   "cell_type": "code",
   "execution_count": 93,
   "id": "3f8d4159-b039-42a6-b1cb-d6eee34f5356",
   "metadata": {},
   "outputs": [
    {
     "data": {
      "image/png": "[encoded data removed]",
      "text/plain": [
       "<Figure size 640x480 with 1 Axes>"
      ]
     },
     "metadata": {},
     "output_type": "display_data"
    },
    {
     "name": "stdout",
     "output_type": "stream",
     "text": [
      "Best Epoch: 1, Accuracy = 0.8161523342132568\n"
     ]
    },
    {
     "data": {
      "text/plain": [
       "(0.8161523342132568, 1)"
      ]
     },
     "execution_count": 93,
     "metadata": {},
     "output_type": "execute_result"
    }
   ],
   "source": [
    "plot_history(model.history)\n",
    "Best_acc(model.history)"
   ]
  },
  {
   "cell_type": "markdown",
   "id": "7cd66b78-37ca-4b01-b7d5-26a4c8ba3a9d",
   "metadata": {},
   "source": [
    "The confusion matrix shows a significant imbalance in the direction of the errors; there are more false negatives than false positives."
   ]
  },
  {
   "cell_type": "code",
   "execution_count": 95,
   "id": "8352115f-0720-464c-ac76-dabb1cfe2e12",
   "metadata": {},
   "outputs": [
    {
     "name": "stdout",
     "output_type": "stream",
     "text": [
      "\u001b[1m48/48\u001b[0m \u001b[32m━━━━━━━━━━━━━━━━━━━━\u001b[0m\u001b[37m\u001b[0m \u001b[1m0s\u001b[0m 2ms/step\n"
     ]
    },
    {
     "data": {
      "image/png": "[encoded data removed]",
      "text/plain": [
       "<Figure size 640x480 with 2 Axes>"
      ]
     },
     "metadata": {},
     "output_type": "display_data"
    }
   ],
   "source": [
    "yp = model.predict(X_val) > 0.5\n",
    "CFM(y_val, yp)"
   ]
  },
  {
   "cell_type": "markdown",
   "id": "e8bc3453-7ecd-4399-b9bf-44f15b0c0f4a",
   "metadata": {},
   "source": [
    "There are several hyperparamters to tune to try to address the overfitting problem. One approach is to include fewer words from the text and by reducing the size of the max_words parameter in the embedding layer. Another approach is to add a dropout layer to reduce the reliance of the model on specific neurons. I will also try varying the number of LSTM layers in the model and the batch size for training. The code below runs a parameter sweep testing three different values each for four hyperparameters. "
   ]
  },
  {
   "cell_type": "code",
   "execution_count": 97,
   "id": "9be50ada-e5e4-4559-b2db-1f2669e165bc",
   "metadata": {},
   "outputs": [
    {
     "name": "stdout",
     "output_type": "stream",
     "text": [
      "1000 32 32 0.0\n",
      "Best Epoch: 3, Accuracy = 0.8102429509162903\n",
      "1000 32 32 0.2\n",
      "Best Epoch: 3, Accuracy = 0.8063033223152161\n",
      "1000 32 32 0.4\n",
      "Best Epoch: 5, Accuracy = 0.8056467771530151\n",
      "1000 32 64 0.0\n",
      "Best Epoch: 4, Accuracy = 0.8089297413825989\n",
      "1000 32 64 0.2\n",
      "Best Epoch: 3, Accuracy = 0.8102429509162903\n",
      "1000 32 64 0.4\n",
      "Best Epoch: 2, Accuracy = 0.813525915145874\n",
      "1000 32 128 0.0\n",
      "Best Epoch: 5, Accuracy = 0.8049901723861694\n",
      "1000 32 128 0.2\n",
      "Best Epoch: 2, Accuracy = 0.8089297413825989\n",
      "1000 32 128 0.4\n",
      "Best Epoch: 3, Accuracy = 0.8069599270820618\n",
      "1000 64 32 0.0\n",
      "Best Epoch: 5, Accuracy = 0.8023637533187866\n",
      "1000 64 32 0.2\n",
      "Best Epoch: 4, Accuracy = 0.8089297413825989\n",
      "1000 64 32 0.4\n",
      "Best Epoch: 2, Accuracy = 0.8102429509162903\n",
      "1000 64 64 0.0\n",
      "Best Epoch: 3, Accuracy = 0.8148391246795654\n",
      "1000 64 64 0.2\n",
      "Best Epoch: 3, Accuracy = 0.8089297413825989\n",
      "1000 64 64 0.4\n",
      "Best Epoch: 5, Accuracy = 0.8102429509162903\n",
      "1000 64 128 0.0\n",
      "Best Epoch: 4, Accuracy = 0.803676962852478\n",
      "1000 64 128 0.2\n",
      "Best Epoch: 1, Accuracy = 0.8102429509162903\n",
      "1000 64 128 0.4\n",
      "Best Epoch: 3, Accuracy = 0.8049901723861694\n",
      "1000 128 32 0.0\n",
      "Best Epoch: 2, Accuracy = 0.8017071485519409\n",
      "1000 128 32 0.2\n",
      "Best Epoch: 3, Accuracy = 0.803676962852478\n",
      "1000 128 32 0.4\n",
      "Best Epoch: 3, Accuracy = 0.8128693103790283\n",
      "1000 128 64 0.0\n",
      "Best Epoch: 4, Accuracy = 0.8043335676193237\n",
      "1000 128 64 0.2\n",
      "Best Epoch: 3, Accuracy = 0.803676962852478\n",
      "1000 128 64 0.4\n",
      "Best Epoch: 4, Accuracy = 0.8089297413825989\n",
      "1000 128 128 0.0\n",
      "Best Epoch: 4, Accuracy = 0.8049901723861694\n",
      "1000 128 128 0.2\n",
      "Best Epoch: 2, Accuracy = 0.8076165318489075\n",
      "1000 128 128 0.4\n",
      "Best Epoch: 3, Accuracy = 0.8076165318489075\n",
      "5000 32 32 0.0\n",
      "Best Epoch: 3, Accuracy = 0.8043335676193237\n",
      "5000 32 32 0.2\n",
      "Best Epoch: 2, Accuracy = 0.8043335676193237\n",
      "5000 32 32 0.4\n",
      "Best Epoch: 2, Accuracy = 0.8102429509162903\n",
      "5000 32 64 0.0\n",
      "Best Epoch: 1, Accuracy = 0.8082731366157532\n",
      "5000 32 64 0.2\n",
      "Best Epoch: 2, Accuracy = 0.7997373342514038\n",
      "5000 32 64 0.4\n",
      "Best Epoch: 2, Accuracy = 0.8168089389801025\n",
      "5000 32 128 0.0\n",
      "Best Epoch: 2, Accuracy = 0.8095863461494446\n",
      "5000 32 128 0.2\n",
      "Best Epoch: 2, Accuracy = 0.8187787532806396\n",
      "5000 32 128 0.4\n",
      "Best Epoch: 1, Accuracy = 0.813525915145874\n",
      "5000 64 32 0.0\n",
      "Best Epoch: 2, Accuracy = 0.8082731366157532\n",
      "5000 64 32 0.2\n",
      "Best Epoch: 2, Accuracy = 0.8128693103790283\n",
      "5000 64 32 0.4\n",
      "Best Epoch: 2, Accuracy = 0.8174655437469482\n",
      "5000 64 64 0.0\n",
      "Best Epoch: 1, Accuracy = 0.8069599270820618\n",
      "5000 64 64 0.2\n",
      "Best Epoch: 1, Accuracy = 0.8043335676193237\n",
      "5000 64 64 0.4\n",
      "Best Epoch: 2, Accuracy = 0.8141825199127197\n",
      "5000 64 128 0.0\n",
      "Best Epoch: 1, Accuracy = 0.8154957294464111\n",
      "5000 64 128 0.2\n",
      "Best Epoch: 2, Accuracy = 0.810899555683136\n",
      "5000 64 128 0.4\n",
      "Best Epoch: 1, Accuracy = 0.8089297413825989\n",
      "5000 128 32 0.0\n",
      "Best Epoch: 6, Accuracy = 0.803676962852478\n",
      "5000 128 32 0.2\n",
      "Best Epoch: 3, Accuracy = 0.8168089389801025\n",
      "5000 128 32 0.4\n",
      "Best Epoch: 2, Accuracy = 0.8128693103790283\n",
      "5000 128 64 0.0\n",
      "Best Epoch: 2, Accuracy = 0.8102429509162903\n",
      "5000 128 64 0.2\n",
      "Best Epoch: 4, Accuracy = 0.8082731366157532\n",
      "5000 128 64 0.4\n",
      "Best Epoch: 2, Accuracy = 0.8141825199127197\n",
      "5000 128 128 0.0\n",
      "Best Epoch: 1, Accuracy = 0.8030203580856323\n",
      "5000 128 128 0.2\n",
      "Best Epoch: 2, Accuracy = 0.8030203580856323\n",
      "5000 128 128 0.4\n",
      "Best Epoch: 2, Accuracy = 0.8082731366157532\n",
      "10000 32 32 0.0\n",
      "Best Epoch: 2, Accuracy = 0.8154957294464111\n",
      "10000 32 32 0.2\n",
      "Best Epoch: 1, Accuracy = 0.8089297413825989\n",
      "10000 32 32 0.4\n",
      "Best Epoch: 2, Accuracy = 0.8187787532806396\n",
      "10000 32 64 0.0\n",
      "Best Epoch: 3, Accuracy = 0.7984241843223572\n",
      "10000 32 64 0.2\n",
      "Best Epoch: 2, Accuracy = 0.7997373342514038\n",
      "10000 32 64 0.4\n",
      "Best Epoch: 1, Accuracy = 0.8122127652168274\n",
      "10000 32 128 0.0\n",
      "Best Epoch: 2, Accuracy = 0.8141825199127197\n",
      "10000 32 128 0.2\n",
      "Best Epoch: 2, Accuracy = 0.8056467771530151\n",
      "10000 32 128 0.4\n",
      "Best Epoch: 2, Accuracy = 0.7990807890892029\n",
      "10000 64 32 0.0\n",
      "Best Epoch: 3, Accuracy = 0.810899555683136\n",
      "10000 64 32 0.2\n",
      "Best Epoch: 4, Accuracy = 0.8063033223152161\n",
      "10000 64 32 0.4\n",
      "Best Epoch: 2, Accuracy = 0.8102429509162903\n",
      "10000 64 64 0.0\n",
      "Best Epoch: 3, Accuracy = 0.7931713461875916\n",
      "10000 64 64 0.2\n",
      "Best Epoch: 3, Accuracy = 0.8076165318489075\n",
      "10000 64 64 0.4\n",
      "Best Epoch: 2, Accuracy = 0.8115561604499817\n",
      "10000 64 128 0.0\n",
      "Best Epoch: 2, Accuracy = 0.8128693103790283\n",
      "10000 64 128 0.2\n",
      "Best Epoch: 3, Accuracy = 0.8043335676193237\n",
      "10000 64 128 0.4\n",
      "Best Epoch: 3, Accuracy = 0.8082731366157532\n",
      "10000 128 32 0.0\n",
      "Best Epoch: 2, Accuracy = 0.8082731366157532\n",
      "10000 128 32 0.2\n",
      "Best Epoch: 3, Accuracy = 0.8043335676193237\n",
      "10000 128 32 0.4\n",
      "Best Epoch: 3, Accuracy = 0.8023637533187866\n",
      "10000 128 64 0.0\n",
      "Best Epoch: 7, Accuracy = 0.7925148010253906\n",
      "10000 128 64 0.2\n",
      "Best Epoch: 2, Accuracy = 0.8017071485519409\n",
      "10000 128 64 0.4\n",
      "Best Epoch: 2, Accuracy = 0.8148391246795654\n",
      "10000 128 128 0.0\n",
      "Best Epoch: 2, Accuracy = 0.8148391246795654\n",
      "10000 128 128 0.2\n",
      "Best Epoch: 2, Accuracy = 0.813525915145874\n",
      "10000 128 128 0.4\n",
      "Best Epoch: 2, Accuracy = 0.8122127652168274\n",
      "word_max =  5000\n",
      "batch size =  32\n",
      "n_layers =  128\n",
      "dropout =  0.2\n",
      "Accuracy =  0.8187787532806396\n"
     ]
    }
   ],
   "source": [
    "word_max = [ 1000, 5000, 10000 ]\n",
    "batch_size = [ 32, 64, 128 ]\n",
    "n_layers = [ 32, 64, 128 ]\n",
    "dropout = [ 0.0, 0.2, 0.4 ]\n",
    "\n",
    "best_params = [ 0, 0, 0, 0 ]\n",
    "best_acc = 0\n",
    "best_epoch = 0\n",
    "\n",
    "for w in word_max:\n",
    "    for b in batch_size:\n",
    "        for l in n_layers:\n",
    "            for d in dropout:\n",
    "                X_train, y_train, X_val, y_val = train_test(data, w)\n",
    "\n",
    "                model = Sequential()\n",
    "                model.add(Embedding(input_dim=max_words, output_dim=max_words//100))\n",
    "                model.add(LSTM(l, dropout=d))\n",
    "                model.add(Dense(1, activation='sigmoid'))\n",
    "                model.compile(optimizer='adam', loss='binary_crossentropy', metrics=['accuracy'])\n",
    "                model.fit(X_train, y_train, epochs=10, batch_size=b, validation_data=(X_val, y_val), verbose=0)\n",
    "\n",
    "                print(w,b,l,d)\n",
    "                acc, epoch = Best_acc(model.history)\n",
    "                if acc > best_acc:\n",
    "                    best_params = [ w, b, l, d ]\n",
    "                    best_acc = acc\n",
    "                    best_epoch = epoch\n",
    "\n",
    "print(\"word_max = \", best_params[0])\n",
    "print(\"batch size = \", best_params[1])\n",
    "print(\"n_layers = \", best_params[2])\n",
    "print(\"dropout = \", best_params[3])\n",
    "print(\"Accuracy = \", best_acc)"
   ]
  },
  {
   "cell_type": "markdown",
   "id": "e9455513-acc5-4a5f-ab51-45cf705e33d4",
   "metadata": {},
   "source": [
    "From the output above, it appears that tuning the hyperparamters has little effect on the performance of the model, with validation accuracy scores staying in the 79% - 82% range for all 81 combinations of parameters.\n",
    "\n",
    "## Model Building - GRU\n",
    "\n",
    "Next, I will try a different model architecture, using a Gated Recurrant Unit (GRU) instead of an LSTM. The GRU is a simpler model with fewer parameters, so perhaps it will be less likely to overfit to the training data. "
   ]
  },
  {
   "cell_type": "code",
   "execution_count": 100,
   "id": "9fa79ddd-c9cd-44d2-82df-38fd2fc10597",
   "metadata": {},
   "outputs": [
    {
     "name": "stdout",
     "output_type": "stream",
     "text": [
      "Epoch 1/10\n",
      "\u001b[1m96/96\u001b[0m \u001b[32m━━━━━━━━━━━━━━━━━━━━\u001b[0m\u001b[37m\u001b[0m \u001b[1m2s\u001b[0m 13ms/step - accuracy: 0.5634 - loss: 0.6868 - val_accuracy: 0.5634 - val_loss: 0.6854\n",
      "Epoch 2/10\n",
      "\u001b[1m96/96\u001b[0m \u001b[32m━━━━━━━━━━━━━━━━━━━━\u001b[0m\u001b[37m\u001b[0m \u001b[1m1s\u001b[0m 11ms/step - accuracy: 0.5891 - loss: 0.6630 - val_accuracy: 0.8142 - val_loss: 0.4550\n",
      "Epoch 3/10\n",
      "\u001b[1m96/96\u001b[0m \u001b[32m━━━━━━━━━━━━━━━━━━━━\u001b[0m\u001b[37m\u001b[0m \u001b[1m1s\u001b[0m 11ms/step - accuracy: 0.8501 - loss: 0.3772 - val_accuracy: 0.8050 - val_loss: 0.4451\n",
      "Epoch 4/10\n",
      "\u001b[1m96/96\u001b[0m \u001b[32m━━━━━━━━━━━━━━━━━━━━\u001b[0m\u001b[37m\u001b[0m \u001b[1m1s\u001b[0m 11ms/step - accuracy: 0.9120 - loss: 0.2473 - val_accuracy: 0.8096 - val_loss: 0.4784\n",
      "Epoch 5/10\n",
      "\u001b[1m96/96\u001b[0m \u001b[32m━━━━━━━━━━━━━━━━━━━━\u001b[0m\u001b[37m\u001b[0m \u001b[1m1s\u001b[0m 11ms/step - accuracy: 0.9400 - loss: 0.1854 - val_accuracy: 0.7846 - val_loss: 0.5421\n",
      "Epoch 6/10\n",
      "\u001b[1m96/96\u001b[0m \u001b[32m━━━━━━━━━━━━━━━━━━━━\u001b[0m\u001b[37m\u001b[0m \u001b[1m1s\u001b[0m 11ms/step - accuracy: 0.9601 - loss: 0.1299 - val_accuracy: 0.7859 - val_loss: 0.6305\n",
      "Epoch 7/10\n",
      "\u001b[1m96/96\u001b[0m \u001b[32m━━━━━━━━━━━━━━━━━━━━\u001b[0m\u001b[37m\u001b[0m \u001b[1m1s\u001b[0m 11ms/step - accuracy: 0.9650 - loss: 0.1019 - val_accuracy: 0.7689 - val_loss: 0.6982\n",
      "Epoch 8/10\n",
      "\u001b[1m96/96\u001b[0m \u001b[32m━━━━━━━━━━━━━━━━━━━━\u001b[0m\u001b[37m\u001b[0m \u001b[1m1s\u001b[0m 11ms/step - accuracy: 0.9700 - loss: 0.0911 - val_accuracy: 0.7695 - val_loss: 0.8131\n",
      "Epoch 9/10\n",
      "\u001b[1m96/96\u001b[0m \u001b[32m━━━━━━━━━━━━━━━━━━━━\u001b[0m\u001b[37m\u001b[0m \u001b[1m1s\u001b[0m 11ms/step - accuracy: 0.9783 - loss: 0.0661 - val_accuracy: 0.7682 - val_loss: 0.8147\n",
      "Epoch 10/10\n",
      "\u001b[1m96/96\u001b[0m \u001b[32m━━━━━━━━━━━━━━━━━━━━\u001b[0m\u001b[37m\u001b[0m \u001b[1m1s\u001b[0m 11ms/step - accuracy: 0.9775 - loss: 0.0604 - val_accuracy: 0.7630 - val_loss: 0.9010\n"
     ]
    },
    {
     "data": {
      "image/png": "[encoded data removed]",
      "text/plain": [
       "<Figure size 640x480 with 1 Axes>"
      ]
     },
     "metadata": {},
     "output_type": "display_data"
    },
    {
     "name": "stdout",
     "output_type": "stream",
     "text": [
      "Best Epoch: 2, Accuracy = 0.8141825199127197\n"
     ]
    },
    {
     "data": {
      "text/plain": [
       "(0.8141825199127197, 2)"
      ]
     },
     "execution_count": 100,
     "metadata": {},
     "output_type": "execute_result"
    }
   ],
   "source": [
    "max_words = 10000\n",
    "X_train, y_train, X_val, y_val = train_test(data, max_words)\n",
    "\n",
    "model = Sequential()\n",
    "model.add(Embedding(input_dim=max_words, output_dim=max_words//100))\n",
    "model.add(GRU(64))  # <-- swapped LSTM for GRU\n",
    "model.add(Dense(1, activation='sigmoid'))\n",
    "\n",
    "model.compile(loss='binary_crossentropy', optimizer='adam', metrics=['accuracy'])\n",
    "model.fit(X_train, y_train, epochs=10, batch_size=64, validation_data=(X_val, y_val))\n",
    "\n",
    "plot_history(model.history)\n",
    "Best_acc(model.history)"
   ]
  },
  {
   "cell_type": "markdown",
   "id": "eff8d66e-39c8-4c77-948f-fd34a6316fca",
   "metadata": {},
   "source": [
    "On the first try, the GRU model is no more accurate than the LSTM. It is notable, however, that it takes more than one epoch to achieve the best validation accuracy, suggesting that it is not overfitting as quickly as the LSTM. I will now repeat the same hyperparameter tuning procedure for the GRU. "
   ]
  },
  {
   "cell_type": "code",
   "execution_count": 101,
   "id": "948e24b7-d197-46a3-8452-71d14841f4a8",
   "metadata": {},
   "outputs": [
    {
     "name": "stdout",
     "output_type": "stream",
     "text": [
      "1000 32 32 0.0\n",
      "Best Epoch: 3, Accuracy = 0.8076165318489075\n",
      "1000 32 32 0.2\n",
      "Best Epoch: 4, Accuracy = 0.8076165318489075\n",
      "1000 32 32 0.4\n",
      "Best Epoch: 2, Accuracy = 0.8063033223152161\n",
      "1000 32 64 0.0\n",
      "Best Epoch: 3, Accuracy = 0.8030203580856323\n",
      "1000 32 64 0.2\n",
      "Best Epoch: 6, Accuracy = 0.803676962852478\n",
      "1000 32 64 0.4\n",
      "Best Epoch: 3, Accuracy = 0.8089297413825989\n",
      "1000 32 128 0.0\n",
      "Best Epoch: 1, Accuracy = 0.8082731366157532\n",
      "1000 32 128 0.2\n",
      "Best Epoch: 4, Accuracy = 0.8043335676193237\n",
      "1000 32 128 0.4\n",
      "Best Epoch: 4, Accuracy = 0.8076165318489075\n",
      "1000 64 32 0.0\n",
      "Best Epoch: 3, Accuracy = 0.8063033223152161\n",
      "1000 64 32 0.2\n",
      "Best Epoch: 6, Accuracy = 0.8056467771530151\n",
      "1000 64 32 0.4\n",
      "Best Epoch: 3, Accuracy = 0.8089297413825989\n",
      "1000 64 64 0.0\n",
      "Best Epoch: 2, Accuracy = 0.8076165318489075\n",
      "1000 64 64 0.2\n",
      "Best Epoch: 2, Accuracy = 0.8049901723861694\n",
      "1000 64 64 0.4\n",
      "Best Epoch: 5, Accuracy = 0.8082731366157532\n",
      "1000 64 128 0.0\n",
      "Best Epoch: 3, Accuracy = 0.8076165318489075\n",
      "1000 64 128 0.2\n",
      "Best Epoch: 5, Accuracy = 0.8082731366157532\n",
      "1000 64 128 0.4\n",
      "Best Epoch: 7, Accuracy = 0.8043335676193237\n",
      "1000 128 32 0.0\n",
      "Best Epoch: 6, Accuracy = 0.8089297413825989\n",
      "1000 128 32 0.2\n",
      "Best Epoch: 3, Accuracy = 0.8122127652168274\n",
      "1000 128 32 0.4\n",
      "Best Epoch: 7, Accuracy = 0.810899555683136\n",
      "1000 128 64 0.0\n",
      "Best Epoch: 3, Accuracy = 0.8043335676193237\n",
      "1000 128 64 0.2\n",
      "Best Epoch: 3, Accuracy = 0.8076165318489075\n",
      "1000 128 64 0.4\n",
      "Best Epoch: 4, Accuracy = 0.8030203580856323\n",
      "1000 128 128 0.0\n",
      "Best Epoch: 3, Accuracy = 0.8095863461494446\n",
      "1000 128 128 0.2\n",
      "Best Epoch: 4, Accuracy = 0.8049901723861694\n",
      "1000 128 128 0.4\n",
      "Best Epoch: 9, Accuracy = 0.8049901723861694\n",
      "5000 32 32 0.0\n",
      "Best Epoch: 2, Accuracy = 0.8102429509162903\n",
      "5000 32 32 0.2\n",
      "Best Epoch: 2, Accuracy = 0.8187787532806396\n",
      "5000 32 32 0.4\n",
      "Best Epoch: 2, Accuracy = 0.8076165318489075\n",
      "5000 32 64 0.0\n",
      "Best Epoch: 3, Accuracy = 0.8154957294464111\n",
      "5000 32 64 0.2\n",
      "Best Epoch: 3, Accuracy = 0.8148391246795654\n",
      "5000 32 64 0.4\n",
      "Best Epoch: 2, Accuracy = 0.8168089389801025\n",
      "5000 32 128 0.0\n",
      "Best Epoch: 2, Accuracy = 0.8141825199127197\n",
      "5000 32 128 0.2\n",
      "Best Epoch: 3, Accuracy = 0.8141825199127197\n",
      "5000 32 128 0.4\n",
      "Best Epoch: 2, Accuracy = 0.8128693103790283\n",
      "5000 64 32 0.0\n",
      "Best Epoch: 3, Accuracy = 0.8095863461494446\n",
      "5000 64 32 0.2\n",
      "Best Epoch: 4, Accuracy = 0.813525915145874\n",
      "5000 64 32 0.4\n",
      "Best Epoch: 3, Accuracy = 0.8200919032096863\n",
      "5000 64 64 0.0\n",
      "Best Epoch: 3, Accuracy = 0.8128693103790283\n",
      "5000 64 64 0.2\n",
      "Best Epoch: 4, Accuracy = 0.8115561604499817\n",
      "5000 64 64 0.4\n",
      "Best Epoch: 5, Accuracy = 0.8128693103790283\n",
      "5000 64 128 0.0\n",
      "Best Epoch: 4, Accuracy = 0.803676962852478\n",
      "5000 64 128 0.2\n",
      "Best Epoch: 4, Accuracy = 0.8115561604499817\n",
      "5000 64 128 0.4\n",
      "Best Epoch: 4, Accuracy = 0.8095863461494446\n",
      "5000 128 32 0.0\n",
      "Best Epoch: 5, Accuracy = 0.8115561604499817\n",
      "5000 128 32 0.2\n",
      "Best Epoch: 4, Accuracy = 0.813525915145874\n",
      "5000 128 32 0.4\n",
      "Best Epoch: 5, Accuracy = 0.8095863461494446\n",
      "5000 128 64 0.0\n",
      "Best Epoch: 3, Accuracy = 0.8089297413825989\n",
      "5000 128 64 0.2\n",
      "Best Epoch: 4, Accuracy = 0.8128693103790283\n",
      "5000 128 64 0.4\n",
      "Best Epoch: 5, Accuracy = 0.8115561604499817\n",
      "5000 128 128 0.0\n",
      "Best Epoch: 3, Accuracy = 0.810899555683136\n",
      "5000 128 128 0.2\n",
      "Best Epoch: 3, Accuracy = 0.8154957294464111\n",
      "5000 128 128 0.4\n",
      "Best Epoch: 5, Accuracy = 0.8122127652168274\n",
      "10000 32 32 0.0\n",
      "Best Epoch: 2, Accuracy = 0.8128693103790283\n",
      "10000 32 32 0.2\n",
      "Best Epoch: 3, Accuracy = 0.8122127652168274\n",
      "10000 32 32 0.4\n",
      "Best Epoch: 3, Accuracy = 0.8069599270820618\n",
      "10000 32 64 0.0\n",
      "Best Epoch: 2, Accuracy = 0.8076165318489075\n",
      "10000 32 64 0.2\n",
      "Best Epoch: 3, Accuracy = 0.8102429509162903\n",
      "10000 32 64 0.4\n",
      "Best Epoch: 4, Accuracy = 0.8122127652168274\n",
      "10000 32 128 0.0\n",
      "Best Epoch: 3, Accuracy = 0.7971109747886658\n",
      "10000 32 128 0.2\n",
      "Best Epoch: 2, Accuracy = 0.8187787532806396\n",
      "10000 32 128 0.4\n",
      "Best Epoch: 4, Accuracy = 0.8030203580856323\n",
      "10000 64 32 0.0\n",
      "Best Epoch: 3, Accuracy = 0.8168089389801025\n",
      "10000 64 32 0.2\n",
      "Best Epoch: 3, Accuracy = 0.8043335676193237\n",
      "10000 64 32 0.4\n",
      "Best Epoch: 4, Accuracy = 0.8168089389801025\n",
      "10000 64 64 0.0\n",
      "Best Epoch: 3, Accuracy = 0.813525915145874\n",
      "10000 64 64 0.2\n",
      "Best Epoch: 3, Accuracy = 0.8122127652168274\n",
      "10000 64 64 0.4\n",
      "Best Epoch: 3, Accuracy = 0.810899555683136\n",
      "10000 64 128 0.0\n",
      "Best Epoch: 3, Accuracy = 0.8076165318489075\n",
      "10000 64 128 0.2\n",
      "Best Epoch: 3, Accuracy = 0.8214051127433777\n",
      "10000 64 128 0.4\n",
      "Best Epoch: 3, Accuracy = 0.8141825199127197\n",
      "10000 128 32 0.0\n",
      "Best Epoch: 5, Accuracy = 0.803676962852478\n",
      "10000 128 32 0.2\n",
      "Best Epoch: 4, Accuracy = 0.8063033223152161\n",
      "10000 128 32 0.4\n",
      "Best Epoch: 4, Accuracy = 0.8069599270820618\n",
      "10000 128 64 0.0\n",
      "Best Epoch: 4, Accuracy = 0.8141825199127197\n",
      "10000 128 64 0.2\n",
      "Best Epoch: 4, Accuracy = 0.803676962852478\n",
      "10000 128 64 0.4\n",
      "Best Epoch: 4, Accuracy = 0.8095863461494446\n",
      "10000 128 128 0.0\n",
      "Best Epoch: 3, Accuracy = 0.8063033223152161\n",
      "10000 128 128 0.2\n",
      "Best Epoch: 5, Accuracy = 0.8056467771530151\n",
      "10000 128 128 0.4\n",
      "Best Epoch: 5, Accuracy = 0.8010505437850952\n",
      "word_max =  10000\n",
      "batch size =  64\n",
      "n_layers =  128\n",
      "dropout =  0.2\n",
      "Accuracy =  0.8214051127433777\n"
     ]
    }
   ],
   "source": [
    "word_max = [ 1000, 5000, 10000 ]\n",
    "batch_size = [ 32, 64, 128 ]\n",
    "n_layers = [ 32, 64, 128 ]\n",
    "dropout = [ 0.0, 0.2, 0.4 ]\n",
    "\n",
    "best_params = [ 0, 0, 0, 0 ]\n",
    "best_acc = 0\n",
    "best_epoch = 0\n",
    "\n",
    "for w in word_max:\n",
    "    for b in batch_size:\n",
    "        for l in n_layers:\n",
    "            for d in dropout:\n",
    "                X_train, y_train, X_val, y_val = train_test(data, w)\n",
    "\n",
    "                model = Sequential()\n",
    "                model.add(Embedding(input_dim=max_words, output_dim=max_words//100))\n",
    "                model.add(GRU(l, dropout=d))\n",
    "                model.add(Dense(1, activation='sigmoid'))\n",
    "                model.compile(optimizer='adam', loss='binary_crossentropy', metrics=['accuracy'])\n",
    "                model.fit(X_train, y_train, epochs=10, batch_size=b, validation_data=(X_val, y_val), verbose=0)\n",
    "\n",
    "                print(w,b,l,d)\n",
    "                acc, epoch = Best_acc(model.history)\n",
    "                if acc > best_acc:\n",
    "                    best_params = [ w, b, l, d ]\n",
    "                    best_acc = acc\n",
    "                    best_epoch = epoch\n",
    "\n",
    "print(\"word_max = \", best_params[0])\n",
    "print(\"batch size = \", best_params[1])\n",
    "print(\"n_layers = \", best_params[2])\n",
    "print(\"dropout = \", best_params[3])\n",
    "print(\"Accuracy = \", best_acc)"
   ]
  },
  {
   "cell_type": "markdown",
   "id": "b00e36e6-d249-4d4e-be38-b83a7e9ecf5b",
   "metadata": {},
   "source": [
    "Once again, tweaking hyperparamters does not make a large difference in the performance of the model. Overall, the LSTM and GRU architectures show a similar level of accuracy. For the final results, I will use the best-performing GRU model as it is more computationally efficient than the LSTM. "
   ]
  },
  {
   "cell_type": "code",
   "execution_count": 150,
   "id": "a72de3f1-4330-436d-b62f-886667654a06",
   "metadata": {},
   "outputs": [
    {
     "name": "stdout",
     "output_type": "stream",
     "text": [
      "Epoch 1/3\n",
      "\u001b[1m96/96\u001b[0m \u001b[32m━━━━━━━━━━━━━━━━━━━━\u001b[0m\u001b[37m\u001b[0m \u001b[1m3s\u001b[0m 17ms/step - accuracy: 0.5470 - loss: 0.6870 - val_accuracy: 0.5634 - val_loss: 0.6852\n",
      "Epoch 2/3\n",
      "\u001b[1m96/96\u001b[0m \u001b[32m━━━━━━━━━━━━━━━━━━━━\u001b[0m\u001b[37m\u001b[0m \u001b[1m1s\u001b[0m 15ms/step - accuracy: 0.6155 - loss: 0.6512 - val_accuracy: 0.8030 - val_loss: 0.4553\n",
      "Epoch 3/3\n",
      "\u001b[1m96/96\u001b[0m \u001b[32m━━━━━━━━━━━━━━━━━━━━\u001b[0m\u001b[37m\u001b[0m \u001b[1m1s\u001b[0m 15ms/step - accuracy: 0.8578 - loss: 0.3531 - val_accuracy: 0.8096 - val_loss: 0.4382\n"
     ]
    },
    {
     "data": {
      "image/png": "[encoded data removed]",
      "text/plain": [
       "<Figure size 640x480 with 1 Axes>"
      ]
     },
     "metadata": {},
     "output_type": "display_data"
    },
    {
     "name": "stdout",
     "output_type": "stream",
     "text": [
      "Best Epoch: 3, Accuracy = 0.8095863461494446\n",
      "\u001b[1m48/48\u001b[0m \u001b[32m━━━━━━━━━━━━━━━━━━━━\u001b[0m\u001b[37m\u001b[0m \u001b[1m0s\u001b[0m 6ms/step\n"
     ]
    },
    {
     "data": {
      "image/png": "[encoded data removed]",
      "text/plain": [
       "<Figure size 640x480 with 2 Axes>"
      ]
     },
     "metadata": {},
     "output_type": "display_data"
    }
   ],
   "source": [
    "tokenizer = Tokenizer(num_words=best_params[0])\n",
    "tokenizer.fit_on_texts(data[\"Clean_text\"])\n",
    "\n",
    "X_train = tokenizer.texts_to_sequences(data_train[\"Clean_text\"])\n",
    "y_train = data_train[\"target\"]\n",
    "X_val = tokenizer.texts_to_sequences(data_val[\"Clean_text\"])\n",
    "y_val = data_val[\"target\"]\n",
    "\n",
    "max_length = int(max([len(x) for x in X_train]))\n",
    "X_train = pad_sequences(X_train, maxlen=max_length, padding='post')\n",
    "X_val = pad_sequences(X_val, maxlen=max_length, padding='post')\n",
    "\n",
    "model = Sequential()\n",
    "model.add(Embedding(input_dim=best_params[0], output_dim=best_params[0]//100))\n",
    "model.add(GRU(best_params[2], dropout=best_params[3])) \n",
    "model.add(Dense(1, activation='sigmoid'))\n",
    "\n",
    "model.compile(loss='binary_crossentropy', optimizer='adam', metrics=['accuracy'])\n",
    "model.fit(X_train, y_train, epochs=best_epoch, batch_size=best_params[1], validation_data=(X_val, y_val))\n",
    "\n",
    "plot_history(model.history)\n",
    "Best_acc(model.history)\n",
    "yp = model.predict(X_val) > 0.5\n",
    "CFM(y_val, yp)"
   ]
  },
  {
   "cell_type": "markdown",
   "id": "9e248a9a-56fb-45db-9b44-c7e0a5b59cc8",
   "metadata": {},
   "source": [
    "The confusion matrix again shows more false negatives than false positives, which means that the accuracy of the model might be improved by lowering the probability threshold for a positive classification. In the code below, I will search for the ideal threshold for accuracy as well as F1-score, the metric used in the Kaggle competition. "
   ]
  },
  {
   "cell_type": "code",
   "execution_count": 151,
   "id": "7781c525-9e60-4279-9322-a1ecab9847d4",
   "metadata": {},
   "outputs": [
    {
     "name": "stdout",
     "output_type": "stream",
     "text": [
      "\u001b[1m48/48\u001b[0m \u001b[32m━━━━━━━━━━━━━━━━━━━━\u001b[0m\u001b[37m\u001b[0m \u001b[1m0s\u001b[0m 3ms/step\n"
     ]
    },
    {
     "data": {
      "image/png": "[encoded data removed]",
      "text/plain": [
       "<Figure size 640x480 with 1 Axes>"
      ]
     },
     "metadata": {},
     "output_type": "display_data"
    },
    {
     "name": "stdout",
     "output_type": "stream",
     "text": [
      "Best accuracy = 0.8174655285620486 , Threshold = 0.43\n",
      "Best F1 Score = 0.7776 , Threshold = 0.43\n"
     ]
    }
   ],
   "source": [
    "thresh = [ 0.01*i for i in range(100) ] \n",
    "acc = []\n",
    "f1 = []\n",
    "yp = model.predict(X_val)[:,0]\n",
    "n = len(yp)\n",
    "\n",
    "for th in thresh:\n",
    "    yp_bin = yp > th\n",
    "\n",
    "    acc.append(sum(yp_bin == y_val)/n)\n",
    "\n",
    "    tp = sum(yp_bin * y_val)\n",
    "    fp = sum(yp_bin - y_val == 1)\n",
    "    fn = sum(yp_bin - y_val == -1)\n",
    "\n",
    "    f1.append(tp/(tp + 0.5*(fp + fn)))\n",
    "\n",
    "plt.plot(thresh, acc, label='Accuracy')\n",
    "plt.plot(thresh, f1, label='F1 Score')\n",
    "plt.xlabel('decision threshold')\n",
    "plt.legend()\n",
    "plt.show()\n",
    "\n",
    "best_acc = max(acc)\n",
    "best_f1 = max(f1)\n",
    "print(\"Best accuracy =\",best_acc, \", Threshold =\",0.01*acc.index(best_acc))\n",
    "print(\"Best F1 Score =\",best_f1, \", Threshold =\",0.01*f1.index(best_f1))"
   ]
  },
  {
   "cell_type": "markdown",
   "id": "5166e79d-ec03-4f49-8480-8ea6f415b026",
   "metadata": {},
   "source": [
    "I will now apply this model with a decision threshold of 0.43 to the test data."
   ]
  },
  {
   "cell_type": "code",
   "execution_count": 164,
   "id": "8852cc54-1dfb-4aa5-9114-dd505eba7fd8",
   "metadata": {},
   "outputs": [
    {
     "name": "stdout",
     "output_type": "stream",
     "text": [
      "\u001b[1m102/102\u001b[0m \u001b[32m━━━━━━━━━━━━━━━━━━━━\u001b[0m\u001b[37m\u001b[0m \u001b[1m0s\u001b[0m 3ms/step\n"
     ]
    },
    {
     "name": "stderr",
     "output_type": "stream",
     "text": [
      "/tmp/ipykernel_5585/1175433633.py:10: SettingWithCopyWarning: \n",
      "A value is trying to be set on a copy of a slice from a DataFrame.\n",
      "Try using .loc[row_indexer,col_indexer] = value instead\n",
      "\n",
      "See the caveats in the documentation: https://pandas.pydata.org/pandas-docs/stable/user_guide/indexing.html#returning-a-view-versus-a-copy\n",
      "  submission['target'] = [int(i) for i in yp_bin]\n"
     ]
    },
    {
     "data": {
      "text/html": [
       "<div>\n",
       "<style scoped>\n",
       "    .dataframe tbody tr th:only-of-type {\n",
       "        vertical-align: middle;\n",
       "    }\n",
       "\n",
       "    .dataframe tbody tr th {\n",
       "        vertical-align: top;\n",
       "    }\n",
       "\n",
       "    .dataframe thead th {\n",
       "        text-align: right;\n",
       "    }\n",
       "</style>\n",
       "<table border=\"1\" class=\"dataframe\">\n",
       "  <thead>\n",
       "    <tr style=\"text-align: right;\">\n",
       "      <th></th>\n",
       "      <th>id</th>\n",
       "      <th>target</th>\n",
       "    </tr>\n",
       "  </thead>\n",
       "  <tbody>\n",
       "    <tr>\n",
       "      <th>0</th>\n",
       "      <td>0</td>\n",
       "      <td>1</td>\n",
       "    </tr>\n",
       "    <tr>\n",
       "      <th>1</th>\n",
       "      <td>2</td>\n",
       "      <td>1</td>\n",
       "    </tr>\n",
       "    <tr>\n",
       "      <th>2</th>\n",
       "      <td>3</td>\n",
       "      <td>1</td>\n",
       "    </tr>\n",
       "    <tr>\n",
       "      <th>3</th>\n",
       "      <td>9</td>\n",
       "      <td>0</td>\n",
       "    </tr>\n",
       "    <tr>\n",
       "      <th>4</th>\n",
       "      <td>11</td>\n",
       "      <td>1</td>\n",
       "    </tr>\n",
       "  </tbody>\n",
       "</table>\n",
       "</div>"
      ],
      "text/plain": [
       "   id  target\n",
       "0   0       1\n",
       "1   2       1\n",
       "2   3       1\n",
       "3   9       0\n",
       "4  11       1"
      ]
     },
     "execution_count": 164,
     "metadata": {},
     "output_type": "execute_result"
    }
   ],
   "source": [
    "test_data = pd.read_csv(\"test.csv\")\n",
    "test_data['Clean_text'] = test_data['text'].apply(Clean_text)\n",
    "\n",
    "X_test = tokenizer.texts_to_sequences(test_data[\"Clean_text\"])\n",
    "X_test = pad_sequences(X_test, maxlen=max_length, padding='post')\n",
    "yp = model.predict(X_test)[:,0]\n",
    "yp_bin = yp > 0.43\n",
    "\n",
    "submission = test_data[['id']]\n",
    "submission['target'] = [int(i) for i in yp_bin] \n",
    "submission.head()"
   ]
  },
  {
   "cell_type": "code",
   "execution_count": 165,
   "id": "50cff26c-a463-4acf-a579-fbd238c0f845",
   "metadata": {},
   "outputs": [],
   "source": [
    "submission.to_csv('submission.csv')"
   ]
  },
  {
   "cell_type": "markdown",
   "id": "f10bb3c1-ee25-40ef-aa86-fca9820a9526",
   "metadata": {},
   "source": [
    "## Conclusion\n",
    "For this project, I built and trained a fairly accuracte RNN model to perform NLP on tweets and classify whether or not they referred to real disasters. I tested two different RNN architectures - LSTM and GRU - with a variety of hyperparameters, and obtained a consistent validation accuracy of about 82%. The fact that the accuracy remained stubbornly consistent throughout the hyperparameter tuning process suggests that any further improvements may have to come from the preprocessing stage. I used only the text of the tweet for this project, but perhaps including the location and keyword information could yield better results. Achieving the best possible results might require including some additional cleverly-engineered features, such as metrics evaluating the overall tone or writing level of the tweet."
   ]
  }
 ],
 "metadata": {
  "kernelspec": {
   "display_name": "Python 3 (ipykernel)",
   "language": "python",
   "name": "python3"
  },
  "language_info": {
   "codemirror_mode": {
    "name": "ipython",
    "version": 3
   },
   "file_extension": ".py",
   "mimetype": "text/x-python",
   "name": "python",
   "nbconvert_exporter": "python",
   "pygments_lexer": "ipython3",
   "version": "3.10.0"
  }
 },
 "nbformat": 4,
 "nbformat_minor": 5
}
